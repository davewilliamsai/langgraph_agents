{
 "cells": [
  {
   "cell_type": "code",
   "id": "initial_id",
   "metadata": {
    "collapsed": true,
    "ExecuteTime": {
     "end_time": "2025-06-01T18:45:58.219643Z",
     "start_time": "2025-06-01T18:45:58.210001Z"
    }
   },
   "source": [
    "import imaplib\n",
    "import email\n",
    "from email.header import decode_header\n",
    "from dotenv import load_dotenv\n",
    "import os\n",
    "from datetime import datetime\n",
    "\n",
    "# Load environment variables from .env file\n",
    "load_dotenv()\n",
    "\n",
    "# CONFIGURATION\n",
    "IMAP_SERVER = 'imap.web.de'\n",
    "EMAIL_ACCOUNT = os.getenv('EMAIL_ACCOUNT')\n",
    "PASSWORD = os.getenv('EMAIL_PASSWORD')\n",
    "\n",
    "today = datetime.today().strftime(\"%d-%b-%Y\")"
   ],
   "outputs": [],
   "execution_count": 1
  },
  {
   "metadata": {
    "ExecuteTime": {
     "end_time": "2025-06-01T19:06:48.839250Z",
     "start_time": "2025-06-01T19:06:48.834264Z"
    }
   },
   "cell_type": "code",
   "source": [
    "# DECODE HEADERS\n",
    "def decode_mime_words(header_val):\n",
    "    decoded = decode_header(header_val)\n",
    "    return ''.join([\n",
    "        str(t[0], t[1] or 'utf-8') if isinstance(t[0], bytes) else str(t[0])\n",
    "        for t in decoded\n",
    "    ])\n",
    "\n",
    "# READ EMAILS\n",
    "def read_emails(mail):\n",
    "\n",
    "    mail.select('INBOX')\n",
    "    status, messages = mail.search(None, 'ON', '28-May-2025')\n",
    "    email_ids = messages[0].split()\n",
    "\n",
    "    full_emails = []\n",
    "\n",
    "    for num in email_ids[::-1]:\n",
    "        status, data = mail.fetch(num, '(RFC822)')\n",
    "        raw_email = data[0][1]\n",
    "        msg = email.message_from_bytes(raw_email)\n",
    "\n",
    "        subject = decode_mime_words(msg.get(\"Subject\", \"\"))\n",
    "        from_ = decode_mime_words(msg.get(\"From\", \"\"))\n",
    "        date_ = msg.get(\"Date\", \"\")\n",
    "\n",
    "        # Extract body\n",
    "        if msg.is_multipart():\n",
    "            for part in msg.walk():\n",
    "                content_type = part.get_content_type()\n",
    "                if content_type == \"text/plain\" and part.get_content_disposition() is None:\n",
    "                    body = part.get_payload(decode=True).decode(errors='ignore')\n",
    "                    break\n",
    "        else:\n",
    "            body = msg.get_payload(decode=True).decode(errors='ignore')\n",
    "\n",
    "        # Combine all parts into a single string\n",
    "        full_email = (\n",
    "            f\"From: {from_}\\n\"\n",
    "            f\"Subject: {subject}\\n\"\n",
    "            f\"Date: {date_}\\n\"\n",
    "            f\"{'-'*50}\\n\"\n",
    "            f\"{body.strip()}\\n\"\n",
    "        )\n",
    "\n",
    "        full_emails.append(full_email)\n",
    "\n",
    "    return ' '.join(full_emails)"
   ],
   "id": "eb424c42cdaa8a69",
   "outputs": [],
   "execution_count": 18
  },
  {
   "metadata": {
    "ExecuteTime": {
     "end_time": "2025-06-01T18:43:17.461576Z",
     "start_time": "2025-06-01T18:43:00.584096Z"
    }
   },
   "cell_type": "code",
   "source": [
    "# CONNECT TO SERVER\n",
    "def connect():\n",
    "    mail = imaplib.IMAP4_SSL(IMAP_SERVER)\n",
    "    mail.login(EMAIL_ACCOUNT, PASSWORD)\n",
    "    return mail\n",
    "\n",
    "# DECODE HEADERS\n",
    "def decode_mime_words(header_val):\n",
    "    decoded = decode_header(header_val)\n",
    "    return ''.join([\n",
    "        str(t[0], t[1] or 'utf-8') if isinstance(t[0], bytes) else str(t[0])\n",
    "        for t in decoded\n",
    "    ])\n",
    "\n",
    "# READ EMAILS\n",
    "def read_emails(mail):\n",
    "    mail.select('INBOX')\n",
    "    status, messages = mail.search(None, 'ON', '28-May-2025') # just from today\n",
    "    email_ids = messages[0].split()\n",
    "\n",
    "    for num in email_ids[::-1]:\n",
    "        status, data = mail.fetch(num, '(RFC822)')\n",
    "        raw_email = data[0][1]\n",
    "        msg = email.message_from_bytes(raw_email)\n",
    "\n",
    "        subject = decode_mime_words(msg.get(\"Subject\", \"\"))\n",
    "        from_ = decode_mime_words(msg.get(\"From\", \"\"))\n",
    "        date_ = msg.get(\"Date\", \"\")\n",
    "\n",
    "        print(\"=\"*50)\n",
    "        print(f\"From: {from_}\")\n",
    "        print(f\"Subject: {subject}\")\n",
    "        print(f\"Date: {date_}\")\n",
    "\n",
    "        if msg.is_multipart():\n",
    "            for part in msg.walk():\n",
    "                content_type = part.get_content_type()\n",
    "                if content_type == \"text/plain\" and part.get_content_disposition() is None:\n",
    "                    body = part.get_payload(decode=True).decode(errors='ignore')\n",
    "                    print(\"\\nBody:\\n\", body[:500], '...\\n')\n",
    "                    break\n",
    "        else:\n",
    "            body = msg.get_payload(decode=True).decode(errors='ignore')\n",
    "            print(\"\\nBody:\\n\", body[:500], '...\\n')\n",
    "\n",
    "# MAIN\n",
    "if __name__ == '__main__':\n",
    "    try:\n",
    "        mail = connect()\n",
    "        read_emails(mail)\n",
    "        mail.logout()\n",
    "    except Exception as e:\n",
    "        print(f\"Error: {e}\")"
   ],
   "id": "abb4526d4def7d44",
   "outputs": [
    {
     "name": "stdout",
     "output_type": "stream",
     "text": [
      "Error: Unknown IMAP4 command: 'message_from_bytes'\n"
     ]
    }
   ],
   "execution_count": 26
  },
  {
   "metadata": {},
   "cell_type": "code",
   "outputs": [],
   "execution_count": null,
   "source": "",
   "id": "9ce8e6d93f5d3ad2"
  }
 ],
 "metadata": {
  "kernelspec": {
   "display_name": "Python 3",
   "language": "python",
   "name": "python3"
  },
  "language_info": {
   "codemirror_mode": {
    "name": "ipython",
    "version": 2
   },
   "file_extension": ".py",
   "mimetype": "text/x-python",
   "name": "python",
   "nbconvert_exporter": "python",
   "pygments_lexer": "ipython2",
   "version": "2.7.6"
  }
 },
 "nbformat": 4,
 "nbformat_minor": 5
}
