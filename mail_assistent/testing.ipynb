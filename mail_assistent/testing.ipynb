{
 "cells": [
  {
   "cell_type": "code",
   "id": "initial_id",
   "metadata": {
    "collapsed": true,
    "ExecuteTime": {
     "end_time": "2025-05-28T19:43:19.035655Z",
     "start_time": "2025-05-28T19:43:19.029850Z"
    }
   },
   "source": [
    "import imaplib\n",
    "import email\n",
    "from email.header import decode_header\n",
    "from dotenv import load_dotenv\n",
    "import os\n",
    "from datetime import datetime\n",
    "\n",
    "# Load environment variables from .env file\n",
    "load_dotenv()\n",
    "\n",
    "# CONFIGURATION\n",
    "IMAP_SERVER = 'imap.web.de'\n",
    "EMAIL_ACCOUNT = os.getenv('EMAIL_ACCOUNT')\n",
    "PASSWORD = os.getenv('EMAIL_PASSWORD')\n",
    "\n",
    "today = datetime.today().strftime(\"%d-%b-%Y\")"
   ],
   "outputs": [],
   "execution_count": 3
  },
  {
   "metadata": {
    "ExecuteTime": {
     "end_time": "2025-05-28T19:43:47.703138Z",
     "start_time": "2025-05-28T19:43:46.928834Z"
    }
   },
   "cell_type": "code",
   "source": [
    "# CONNECT TO SERVER\n",
    "def connect():\n",
    "    mail = imaplib.IMAP4_SSL(IMAP_SERVER)\n",
    "    mail.login(EMAIL_ACCOUNT, PASSWORD)\n",
    "    return mail\n",
    "\n",
    "# DECODE HEADERS\n",
    "def decode_mime_words(header_val):\n",
    "    decoded = decode_header(header_val)\n",
    "    return ''.join([\n",
    "        str(t[0], t[1] or 'utf-8') if isinstance(t[0], bytes) else str(t[0])\n",
    "        for t in decoded\n",
    "    ])\n",
    "\n",
    "# READ EMAILS\n",
    "def read_emails(mail):\n",
    "    mail.select('INBOX')\n",
    "    status, messages = mail.search(None, f'ON {today}') # just from today\n",
    "    email_ids = messages[0].split()\n",
    "\n",
    "    for num in email_ids[::-1]:\n",
    "        status, data = mail.fetch(num, '(RFC822)')\n",
    "        raw_email = data[0][1]\n",
    "        msg = email.message_from_bytes(raw_email)\n",
    "\n",
    "        subject = decode_mime_words(msg.get(\"Subject\", \"\"))\n",
    "        from_ = decode_mime_words(msg.get(\"From\", \"\"))\n",
    "        date_ = msg.get(\"Date\", \"\")\n",
    "\n",
    "        print(\"=\"*50)\n",
    "        print(f\"From: {from_}\")\n",
    "        print(f\"Subject: {subject}\")\n",
    "        print(f\"Date: {date_}\")\n",
    "\n",
    "        if msg.is_multipart():\n",
    "            for part in msg.walk():\n",
    "                content_type = part.get_content_type()\n",
    "                if content_type == \"text/plain\" and part.get_content_disposition() is None:\n",
    "                    body = part.get_payload(decode=True).decode(errors='ignore')\n",
    "                    print(\"\\nBody:\\n\", body[:500], '...\\n')\n",
    "                    break\n",
    "        else:\n",
    "            body = msg.get_payload(decode=True).decode(errors='ignore')\n",
    "            print(\"\\nBody:\\n\", body[:500], '...\\n')\n",
    "\n",
    "# MAIN\n",
    "if __name__ == '__main__':\n",
    "    try:\n",
    "        mail = connect()\n",
    "        read_emails(mail)\n",
    "        mail.logout()\n",
    "    except Exception as e:\n",
    "        print(f\"Error: {e}\")"
   ],
   "id": "abb4526d4def7d44",
   "outputs": [
    {
     "name": "stdout",
     "output_type": "stream",
     "text": [
      "==================================================\n",
      "From: LinkedIn <jobs-noreply@linkedin.com>\n",
      "Subject: David, bewerben Sie sich jetzt bei iPoint-systems gmbh: als Data Engineer – Sustainability & AI (m/f/d)\n",
      "Date: Wed, 28 May 2025 17:42:03 +0000 (UTC)\n",
      "\n",
      "Body:\n",
      " Ihr gespeicherter Job bei iPoint-systems gmbh ist immer noch verfügbar.\r\n",
      "\r\n",
      "\r\n",
      "      \r\n",
      "Data Engineer – Sustainability & AI (m/f/d)\r\n",
      "iPoint-systems gmbh\r\n",
      "Reutlingen, Baden-Württemberg, Deutschland\r\n",
      "2 Studienkolleg:innen\r\n",
      "Jobangebot ansehen: https://www.linkedin.com/comm/jobs/view/4203664913?trackingId=&refId=&lipi=urn%3Ali%3Apage%3Aemail_email_jobs_saved_job_reminder_01%3BWmpBV%2BBnSeKAprWWS7RswQ%3D%3D&midToken=AQG_wjwV9yd8vw&midSig=0sIPl8N8WCFXM1&trk=eml-email_jobs_saved_job_reminder_01-job_card-0 ...\n",
      "\n",
      "==================================================\n",
      "From: \"Indeed\" <invitationtoapply@match.indeed.com>\n",
      "Subject: Assistenz (m/w/d) im Bildungsmanagement bei Unternehmensgruppe Eckert\n",
      "Date: Wed, 28 May 2025 17:22:05 +0000\n",
      "\n",
      "Body:\n",
      " We thought this job for a Assistenz (m/w/d) at Unternehmensgruppe Eckert in 70565 Stuttgart would be a good fit. Check out the job at https://cts.indeed.com/v3/H4sIAAAAAAAA_02TSY-jSBCF_4ulqdPQBcnqkqwRXsvYGMwOFwRJsu-QBtzq_960-jKKkELxvXcIKfR-bvDma5OOYzt8fX5G6EdWRwhFP2BTfbZBgoLoE5bFf3HfVLu8CTMQ-OuoghGmRISI48lHVZCVH3k_FjuWgFVKEWtlQ4gL1LUJ1RcCSRGQpyMabAMSwFhAIfVRNbv-I4h2BPdwyzAuHuSR3BpSxW2vubNQStJSzrXAdNCnnOdEFn3mwLi1tOR-319KdfFAPBs0P1sOkSg0GjGypunsFqZojNwz5vXci9HkPzjrmeWyYibdu7wLNg6mQ8sasZ7zzIS_qYbD ...\n",
      "\n",
      "==================================================\n",
      "From: LinkedIn <groups-noreply@linkedin.com>\n",
      "Subject: Mitdiskutieren: Gen AI, Machine Learning, Python, Data Science – Scientist, Business Analyst, ML Engineer, Developer\n",
      "Date: Wed, 28 May 2025 16:27:32 +0000 (UTC)\n",
      "\n",
      "Body:\n",
      " Mitdiskutieren: Gen AI, Machine Learning, Python, Data Science – Scientist, Business Analyst, ML Engineer, Developer \r\n",
      "\r\n",
      ".....................................Gen AI, Machine Learning, Python, Data Science – Scientist, Business Analyst, ML Engineer, Developer\r\n",
      "Welcome to the Gen AI, Machine Learning, Python & Data Science – Scientists, Business Analysts, ML Engineers & Developers Community\r\n",
      "\r\n",
      "A dedicated space for professionals passionate about Artificial Intelligence, Machine Learning (ML), Data ...\n",
      "\n"
     ]
    }
   ],
   "execution_count": 5
  },
  {
   "metadata": {},
   "cell_type": "code",
   "outputs": [],
   "execution_count": null,
   "source": "",
   "id": "9ce8e6d93f5d3ad2"
  }
 ],
 "metadata": {
  "kernelspec": {
   "display_name": "Python 3",
   "language": "python",
   "name": "python3"
  },
  "language_info": {
   "codemirror_mode": {
    "name": "ipython",
    "version": 2
   },
   "file_extension": ".py",
   "mimetype": "text/x-python",
   "name": "python",
   "nbconvert_exporter": "python",
   "pygments_lexer": "ipython2",
   "version": "2.7.6"
  }
 },
 "nbformat": 4,
 "nbformat_minor": 5
}
